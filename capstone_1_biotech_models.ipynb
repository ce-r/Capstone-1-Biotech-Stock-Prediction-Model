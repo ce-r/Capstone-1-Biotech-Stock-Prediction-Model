{
  "nbformat": 4,
  "nbformat_minor": 0,
  "metadata": {
    "colab": {
      "name": "capstone 1 biotech models.ipynb",
      "provenance": [],
      "collapsed_sections": []
    },
    "kernelspec": {
      "name": "python3",
      "display_name": "Python 3"
    }
  },
  "cells": [
    {
      "cell_type": "code",
      "metadata": {
        "id": "Lcw_l73AmowA",
        "colab_type": "code",
        "colab": {}
      },
      "source": [
        "from pandas_datareader import data as dr\n",
        "import matplotlib.pyplot as plt\n",
        "import pandas as pd\n",
        "import numpy as np"
      ],
      "execution_count": 0,
      "outputs": []
    },
    {
      "cell_type": "markdown",
      "metadata": {
        "id": "oMG5iUbVnATG",
        "colab_type": "text"
      },
      "source": [
        "DATA"
      ]
    },
    {
      "cell_type": "code",
      "metadata": {
        "id": "MBuenKHko_mi",
        "colab_type": "code",
        "colab": {}
      },
      "source": [
        "start_date = '2000-01-01'\n",
        "end_date = '2019-01-05'"
      ],
      "execution_count": 0,
      "outputs": []
    },
    {
      "cell_type": "code",
      "metadata": {
        "id": "PiIm77lpmosM",
        "colab_type": "code",
        "colab": {}
      },
      "source": [
        "def getTicks(items):\n",
        "  symbols = []\n",
        "  for i in items:\n",
        "    try:\n",
        "      data = dr.get_data_yahoo(i, start_date, end_date)\n",
        "    except Exception as e:\n",
        "      print(\"there was a problem with {}\".format(i))\n",
        "    else:\n",
        "      symbols.append(i)\n",
        "  return symbols"
      ],
      "execution_count": 0,
      "outputs": []
    },
    {
      "cell_type": "code",
      "metadata": {
        "id": "RQXSHhUwmwfU",
        "colab_type": "code",
        "colab": {}
      },
      "source": [
        "sample_ticks = [\n",
        "            'NVS'                \n",
        "]\n",
        "\n",
        "adj = getTicks(sample_ticks)"
      ],
      "execution_count": 0,
      "outputs": []
    },
    {
      "cell_type": "code",
      "metadata": {
        "id": "u5X6UZi0Y2iO",
        "colab_type": "code",
        "colab": {}
      },
      "source": [
        "df = dr.get_data_yahoo(adj, start_date, end_date)"
      ],
      "execution_count": 0,
      "outputs": []
    },
    {
      "cell_type": "code",
      "metadata": {
        "id": "NHnx6cgUY6sq",
        "colab_type": "code",
        "outputId": "93b1526c-3b7e-4aa5-9844-a396555d65c9",
        "colab": {
          "base_uri": "https://localhost:8080/",
          "height": 257
        }
      },
      "source": [
        "df.head()"
      ],
      "execution_count": 6,
      "outputs": [
        {
          "output_type": "execute_result",
          "data": {
            "text/html": [
              "<div>\n",
              "<style scoped>\n",
              "    .dataframe tbody tr th:only-of-type {\n",
              "        vertical-align: middle;\n",
              "    }\n",
              "\n",
              "    .dataframe tbody tr th {\n",
              "        vertical-align: top;\n",
              "    }\n",
              "\n",
              "    .dataframe thead tr th {\n",
              "        text-align: left;\n",
              "    }\n",
              "\n",
              "    .dataframe thead tr:last-of-type th {\n",
              "        text-align: right;\n",
              "    }\n",
              "</style>\n",
              "<table border=\"1\" class=\"dataframe\">\n",
              "  <thead>\n",
              "    <tr>\n",
              "      <th>Attributes</th>\n",
              "      <th>High</th>\n",
              "      <th>Low</th>\n",
              "      <th>Open</th>\n",
              "      <th>Close</th>\n",
              "      <th>Volume</th>\n",
              "      <th>Adj Close</th>\n",
              "    </tr>\n",
              "    <tr>\n",
              "      <th>Symbols</th>\n",
              "      <th>NVS</th>\n",
              "      <th>NVS</th>\n",
              "      <th>NVS</th>\n",
              "      <th>NVS</th>\n",
              "      <th>NVS</th>\n",
              "      <th>NVS</th>\n",
              "    </tr>\n",
              "    <tr>\n",
              "      <th>Date</th>\n",
              "      <th></th>\n",
              "      <th></th>\n",
              "      <th></th>\n",
              "      <th></th>\n",
              "      <th></th>\n",
              "      <th></th>\n",
              "    </tr>\n",
              "  </thead>\n",
              "  <tbody>\n",
              "    <tr>\n",
              "      <th>2000-01-03</th>\n",
              "      <td>33.154121</td>\n",
              "      <td>32.370071</td>\n",
              "      <td>32.594086</td>\n",
              "      <td>32.594086</td>\n",
              "      <td>133200.0</td>\n",
              "      <td>17.756123</td>\n",
              "    </tr>\n",
              "    <tr>\n",
              "      <th>2000-01-04</th>\n",
              "      <td>33.490143</td>\n",
              "      <td>31.978046</td>\n",
              "      <td>31.978046</td>\n",
              "      <td>31.978046</td>\n",
              "      <td>243200.0</td>\n",
              "      <td>17.420527</td>\n",
              "    </tr>\n",
              "    <tr>\n",
              "      <th>2000-01-05</th>\n",
              "      <td>33.826164</td>\n",
              "      <td>31.810036</td>\n",
              "      <td>32.118057</td>\n",
              "      <td>32.118057</td>\n",
              "      <td>144600.0</td>\n",
              "      <td>17.496799</td>\n",
              "    </tr>\n",
              "    <tr>\n",
              "      <th>2000-01-06</th>\n",
              "      <td>33.378136</td>\n",
              "      <td>31.922043</td>\n",
              "      <td>32.818100</td>\n",
              "      <td>32.818100</td>\n",
              "      <td>579200.0</td>\n",
              "      <td>17.878160</td>\n",
              "    </tr>\n",
              "    <tr>\n",
              "      <th>2000-01-07</th>\n",
              "      <td>34.274193</td>\n",
              "      <td>32.706093</td>\n",
              "      <td>33.322132</td>\n",
              "      <td>33.322132</td>\n",
              "      <td>89900.0</td>\n",
              "      <td>18.152739</td>\n",
              "    </tr>\n",
              "  </tbody>\n",
              "</table>\n",
              "</div>"
            ],
            "text/plain": [
              "Attributes       High        Low       Open      Close    Volume  Adj Close\n",
              "Symbols           NVS        NVS        NVS        NVS       NVS        NVS\n",
              "Date                                                                       \n",
              "2000-01-03  33.154121  32.370071  32.594086  32.594086  133200.0  17.756123\n",
              "2000-01-04  33.490143  31.978046  31.978046  31.978046  243200.0  17.420527\n",
              "2000-01-05  33.826164  31.810036  32.118057  32.118057  144600.0  17.496799\n",
              "2000-01-06  33.378136  31.922043  32.818100  32.818100  579200.0  17.878160\n",
              "2000-01-07  34.274193  32.706093  33.322132  33.322132   89900.0  18.152739"
            ]
          },
          "metadata": {
            "tags": []
          },
          "execution_count": 6
        }
      ]
    },
    {
      "cell_type": "code",
      "metadata": {
        "id": "-9L1T9hJYuwq",
        "colab_type": "code",
        "colab": {}
      },
      "source": [
        "prices = df.loc[:,('Adj Close',slice(None))]\n"
      ],
      "execution_count": 0,
      "outputs": []
    },
    {
      "cell_type": "code",
      "metadata": {
        "id": "MXWwZL5VYudv",
        "colab_type": "code",
        "colab": {}
      },
      "source": [
        "prices.columns = prices.columns.droplevel(0)"
      ],
      "execution_count": 0,
      "outputs": []
    },
    {
      "cell_type": "code",
      "metadata": {
        "id": "oB25F9WAURO3",
        "colab_type": "code",
        "outputId": "5db84ddf-aaa2-43a2-83ea-b174f1e2b196",
        "colab": {
          "base_uri": "https://localhost:8080/",
          "height": 227
        }
      },
      "source": [
        "prices.head()"
      ],
      "execution_count": 9,
      "outputs": [
        {
          "output_type": "execute_result",
          "data": {
            "text/html": [
              "<div>\n",
              "<style scoped>\n",
              "    .dataframe tbody tr th:only-of-type {\n",
              "        vertical-align: middle;\n",
              "    }\n",
              "\n",
              "    .dataframe tbody tr th {\n",
              "        vertical-align: top;\n",
              "    }\n",
              "\n",
              "    .dataframe thead th {\n",
              "        text-align: right;\n",
              "    }\n",
              "</style>\n",
              "<table border=\"1\" class=\"dataframe\">\n",
              "  <thead>\n",
              "    <tr style=\"text-align: right;\">\n",
              "      <th>Symbols</th>\n",
              "      <th>NVS</th>\n",
              "    </tr>\n",
              "    <tr>\n",
              "      <th>Date</th>\n",
              "      <th></th>\n",
              "    </tr>\n",
              "  </thead>\n",
              "  <tbody>\n",
              "    <tr>\n",
              "      <th>2000-01-03</th>\n",
              "      <td>17.756123</td>\n",
              "    </tr>\n",
              "    <tr>\n",
              "      <th>2000-01-04</th>\n",
              "      <td>17.420527</td>\n",
              "    </tr>\n",
              "    <tr>\n",
              "      <th>2000-01-05</th>\n",
              "      <td>17.496799</td>\n",
              "    </tr>\n",
              "    <tr>\n",
              "      <th>2000-01-06</th>\n",
              "      <td>17.878160</td>\n",
              "    </tr>\n",
              "    <tr>\n",
              "      <th>2000-01-07</th>\n",
              "      <td>18.152739</td>\n",
              "    </tr>\n",
              "  </tbody>\n",
              "</table>\n",
              "</div>"
            ],
            "text/plain": [
              "Symbols           NVS\n",
              "Date                 \n",
              "2000-01-03  17.756123\n",
              "2000-01-04  17.420527\n",
              "2000-01-05  17.496799\n",
              "2000-01-06  17.878160\n",
              "2000-01-07  18.152739"
            ]
          },
          "metadata": {
            "tags": []
          },
          "execution_count": 9
        }
      ]
    },
    {
      "cell_type": "code",
      "metadata": {
        "id": "GItMRwH0-8h6",
        "colab_type": "code",
        "outputId": "135e834b-50f2-4646-d042-8dd04536c0e5",
        "colab": {
          "base_uri": "https://localhost:8080/",
          "height": 227
        }
      },
      "source": [
        "p = prices.loc['2000-01-01':'2000-04-01']\n",
        "p.tail()"
      ],
      "execution_count": 10,
      "outputs": [
        {
          "output_type": "execute_result",
          "data": {
            "text/html": [
              "<div>\n",
              "<style scoped>\n",
              "    .dataframe tbody tr th:only-of-type {\n",
              "        vertical-align: middle;\n",
              "    }\n",
              "\n",
              "    .dataframe tbody tr th {\n",
              "        vertical-align: top;\n",
              "    }\n",
              "\n",
              "    .dataframe thead th {\n",
              "        text-align: right;\n",
              "    }\n",
              "</style>\n",
              "<table border=\"1\" class=\"dataframe\">\n",
              "  <thead>\n",
              "    <tr style=\"text-align: right;\">\n",
              "      <th>Symbols</th>\n",
              "      <th>NVS</th>\n",
              "    </tr>\n",
              "    <tr>\n",
              "      <th>Date</th>\n",
              "      <th></th>\n",
              "    </tr>\n",
              "  </thead>\n",
              "  <tbody>\n",
              "    <tr>\n",
              "      <th>2000-03-27</th>\n",
              "      <td>16.108650</td>\n",
              "    </tr>\n",
              "    <tr>\n",
              "      <th>2000-03-28</th>\n",
              "      <td>16.078140</td>\n",
              "    </tr>\n",
              "    <tr>\n",
              "      <th>2000-03-29</th>\n",
              "      <td>16.017122</td>\n",
              "    </tr>\n",
              "    <tr>\n",
              "      <th>2000-03-30</th>\n",
              "      <td>16.108650</td>\n",
              "    </tr>\n",
              "    <tr>\n",
              "      <th>2000-03-31</th>\n",
              "      <td>16.688316</td>\n",
              "    </tr>\n",
              "  </tbody>\n",
              "</table>\n",
              "</div>"
            ],
            "text/plain": [
              "Symbols           NVS\n",
              "Date                 \n",
              "2000-03-27  16.108650\n",
              "2000-03-28  16.078140\n",
              "2000-03-29  16.017122\n",
              "2000-03-30  16.108650\n",
              "2000-03-31  16.688316"
            ]
          },
          "metadata": {
            "tags": []
          },
          "execution_count": 10
        }
      ]
    },
    {
      "cell_type": "code",
      "metadata": {
        "id": "XK4ifIIdwE0W",
        "colab_type": "code",
        "outputId": "b6b4ef2c-a9cd-4b1f-b094-ffaac19e7d58",
        "colab": {
          "base_uri": "https://localhost:8080/",
          "height": 374
        }
      },
      "source": [
        "pip install tbats"
      ],
      "execution_count": 11,
      "outputs": [
        {
          "output_type": "stream",
          "text": [
            "Collecting tbats\n",
            "\u001b[?25l  Downloading https://files.pythonhosted.org/packages/66/45/9766fec668f0197e0e4fa0a7b52330ccf907af622e8237724cb539b44171/tbats-1.0.8-py3-none-any.whl (42kB)\n",
            "\r\u001b[K     |███████▋                        | 10kB 16.7MB/s eta 0:00:01\r\u001b[K     |███████████████▎                | 20kB 3.2MB/s eta 0:00:01\r\u001b[K     |███████████████████████         | 30kB 4.5MB/s eta 0:00:01\r\u001b[K     |██████████████████████████████▌ | 40kB 3.0MB/s eta 0:00:01\r\u001b[K     |████████████████████████████████| 51kB 2.5MB/s \n",
            "\u001b[?25hRequirement already satisfied: scikit-learn in /usr/local/lib/python3.6/dist-packages (from tbats) (0.21.3)\n",
            "Collecting pmdarima\n",
            "\u001b[?25l  Downloading https://files.pythonhosted.org/packages/fc/72/fff0398a1e770a2d00b9f0e63a5f04f62875cfae2d69719ca7e7d5a83cec/pmdarima-1.4.0-cp36-cp36m-manylinux1_x86_64.whl (1.1MB)\n",
            "\u001b[K     |████████████████████████████████| 1.1MB 11.9MB/s \n",
            "\u001b[?25hRequirement already satisfied: numpy in /usr/local/lib/python3.6/dist-packages (from tbats) (1.17.4)\n",
            "Requirement already satisfied: scipy in /usr/local/lib/python3.6/dist-packages (from tbats) (1.3.2)\n",
            "Requirement already satisfied: joblib>=0.11 in /usr/local/lib/python3.6/dist-packages (from scikit-learn->tbats) (0.14.0)\n",
            "Requirement already satisfied: six>=1.5 in /usr/local/lib/python3.6/dist-packages (from pmdarima->tbats) (1.12.0)\n",
            "Requirement already satisfied: statsmodels>=0.10.0 in /usr/local/lib/python3.6/dist-packages (from pmdarima->tbats) (0.10.1)\n",
            "Requirement already satisfied: pandas>=0.19 in /usr/local/lib/python3.6/dist-packages (from pmdarima->tbats) (0.25.3)\n",
            "Requirement already satisfied: Cython>=0.29 in /usr/local/lib/python3.6/dist-packages (from pmdarima->tbats) (0.29.14)\n",
            "Requirement already satisfied: patsy>=0.4.0 in /usr/local/lib/python3.6/dist-packages (from statsmodels>=0.10.0->pmdarima->tbats) (0.5.1)\n",
            "Requirement already satisfied: pytz>=2017.2 in /usr/local/lib/python3.6/dist-packages (from pandas>=0.19->pmdarima->tbats) (2018.9)\n",
            "Requirement already satisfied: python-dateutil>=2.6.1 in /usr/local/lib/python3.6/dist-packages (from pandas>=0.19->pmdarima->tbats) (2.6.1)\n",
            "Installing collected packages: pmdarima, tbats\n",
            "Successfully installed pmdarima-1.4.0 tbats-1.0.8\n"
          ],
          "name": "stdout"
        }
      ]
    },
    {
      "cell_type": "code",
      "metadata": {
        "id": "DJdw40qMwIHY",
        "colab_type": "code",
        "outputId": "831de054-05ef-4fda-c785-354ebf8f22ff",
        "colab": {
          "base_uri": "https://localhost:8080/",
          "height": 321
        }
      },
      "source": [
        "pip install pyramid.arima"
      ],
      "execution_count": 12,
      "outputs": [
        {
          "output_type": "stream",
          "text": [
            "Collecting pyramid.arima\n",
            "\u001b[?25l  Downloading https://files.pythonhosted.org/packages/5c/84/57422f2a6ade3161c586545e38b518ba1b7ab30ee4a4acc29110c0aba2bc/pyramid_arima-0.9.0-cp36-cp36m-manylinux1_x86_64.whl (597kB)\n",
            "\r\u001b[K     |▌                               | 10kB 14.7MB/s eta 0:00:01\r\u001b[K     |█                               | 20kB 3.3MB/s eta 0:00:01\r\u001b[K     |█▋                              | 30kB 4.8MB/s eta 0:00:01\r\u001b[K     |██▏                             | 40kB 3.0MB/s eta 0:00:01\r\u001b[K     |██▊                             | 51kB 3.7MB/s eta 0:00:01\r\u001b[K     |███▎                            | 61kB 4.4MB/s eta 0:00:01\r\u001b[K     |███▉                            | 71kB 5.1MB/s eta 0:00:01\r\u001b[K     |████▍                           | 81kB 5.7MB/s eta 0:00:01\r\u001b[K     |█████                           | 92kB 6.3MB/s eta 0:00:01\r\u001b[K     |█████▌                          | 102kB 4.9MB/s eta 0:00:01\r\u001b[K     |██████                          | 112kB 4.9MB/s eta 0:00:01\r\u001b[K     |██████▋                         | 122kB 4.9MB/s eta 0:00:01\r\u001b[K     |███████▏                        | 133kB 4.9MB/s eta 0:00:01\r\u001b[K     |███████▊                        | 143kB 4.9MB/s eta 0:00:01\r\u001b[K     |████████▏                       | 153kB 4.9MB/s eta 0:00:01\r\u001b[K     |████████▊                       | 163kB 4.9MB/s eta 0:00:01\r\u001b[K     |█████████▎                      | 174kB 4.9MB/s eta 0:00:01\r\u001b[K     |█████████▉                      | 184kB 4.9MB/s eta 0:00:01\r\u001b[K     |██████████▍                     | 194kB 4.9MB/s eta 0:00:01\r\u001b[K     |███████████                     | 204kB 4.9MB/s eta 0:00:01\r\u001b[K     |███████████▌                    | 215kB 4.9MB/s eta 0:00:01\r\u001b[K     |████████████                    | 225kB 4.9MB/s eta 0:00:01\r\u001b[K     |████████████▋                   | 235kB 4.9MB/s eta 0:00:01\r\u001b[K     |█████████████▏                  | 245kB 4.9MB/s eta 0:00:01\r\u001b[K     |█████████████▊                  | 256kB 4.9MB/s eta 0:00:01\r\u001b[K     |██████████████▎                 | 266kB 4.9MB/s eta 0:00:01\r\u001b[K     |██████████████▉                 | 276kB 4.9MB/s eta 0:00:01\r\u001b[K     |███████████████▍                | 286kB 4.9MB/s eta 0:00:01\r\u001b[K     |████████████████                | 296kB 4.9MB/s eta 0:00:01\r\u001b[K     |████████████████▍               | 307kB 4.9MB/s eta 0:00:01\r\u001b[K     |█████████████████               | 317kB 4.9MB/s eta 0:00:01\r\u001b[K     |█████████████████▌              | 327kB 4.9MB/s eta 0:00:01\r\u001b[K     |██████████████████              | 337kB 4.9MB/s eta 0:00:01\r\u001b[K     |██████████████████▋             | 348kB 4.9MB/s eta 0:00:01\r\u001b[K     |███████████████████▏            | 358kB 4.9MB/s eta 0:00:01\r\u001b[K     |███████████████████▊            | 368kB 4.9MB/s eta 0:00:01\r\u001b[K     |████████████████████▎           | 378kB 4.9MB/s eta 0:00:01\r\u001b[K     |████████████████████▉           | 389kB 4.9MB/s eta 0:00:01\r\u001b[K     |█████████████████████▍          | 399kB 4.9MB/s eta 0:00:01\r\u001b[K     |██████████████████████          | 409kB 4.9MB/s eta 0:00:01\r\u001b[K     |██████████████████████▌         | 419kB 4.9MB/s eta 0:00:01\r\u001b[K     |███████████████████████         | 430kB 4.9MB/s eta 0:00:01\r\u001b[K     |███████████████████████▋        | 440kB 4.9MB/s eta 0:00:01\r\u001b[K     |████████████████████████▏       | 450kB 4.9MB/s eta 0:00:01\r\u001b[K     |████████████████████████▋       | 460kB 4.9MB/s eta 0:00:01\r\u001b[K     |█████████████████████████▏      | 471kB 4.9MB/s eta 0:00:01\r\u001b[K     |█████████████████████████▊      | 481kB 4.9MB/s eta 0:00:01\r\u001b[K     |██████████████████████████▎     | 491kB 4.9MB/s eta 0:00:01\r\u001b[K     |██████████████████████████▉     | 501kB 4.9MB/s eta 0:00:01\r\u001b[K     |███████████████████████████▍    | 512kB 4.9MB/s eta 0:00:01\r\u001b[K     |████████████████████████████    | 522kB 4.9MB/s eta 0:00:01\r\u001b[K     |████████████████████████████▌   | 532kB 4.9MB/s eta 0:00:01\r\u001b[K     |█████████████████████████████   | 542kB 4.9MB/s eta 0:00:01\r\u001b[K     |█████████████████████████████▋  | 552kB 4.9MB/s eta 0:00:01\r\u001b[K     |██████████████████████████████▏ | 563kB 4.9MB/s eta 0:00:01\r\u001b[K     |██████████████████████████████▊ | 573kB 4.9MB/s eta 0:00:01\r\u001b[K     |███████████████████████████████▎| 583kB 4.9MB/s eta 0:00:01\r\u001b[K     |███████████████████████████████▉| 593kB 4.9MB/s eta 0:00:01\r\u001b[K     |████████████████████████████████| 604kB 4.9MB/s \n",
            "\u001b[?25hRequirement already satisfied: Cython>=0.23 in /usr/local/lib/python3.6/dist-packages (from pyramid.arima) (0.29.14)\n",
            "Requirement already satisfied: scipy>=0.9 in /usr/local/lib/python3.6/dist-packages (from pyramid.arima) (1.3.2)\n",
            "Requirement already satisfied: pandas>=0.19 in /usr/local/lib/python3.6/dist-packages (from pyramid.arima) (0.25.3)\n",
            "Requirement already satisfied: numpy>=1.10 in /usr/local/lib/python3.6/dist-packages (from pyramid.arima) (1.17.4)\n",
            "Requirement already satisfied: scikit-learn>=0.17 in /usr/local/lib/python3.6/dist-packages (from pyramid.arima) (0.21.3)\n",
            "Requirement already satisfied: statsmodels>=0.9.0 in /usr/local/lib/python3.6/dist-packages (from pyramid.arima) (0.10.1)\n",
            "Requirement already satisfied: pytz>=2017.2 in /usr/local/lib/python3.6/dist-packages (from pandas>=0.19->pyramid.arima) (2018.9)\n",
            "Requirement already satisfied: python-dateutil>=2.6.1 in /usr/local/lib/python3.6/dist-packages (from pandas>=0.19->pyramid.arima) (2.6.1)\n",
            "Requirement already satisfied: joblib>=0.11 in /usr/local/lib/python3.6/dist-packages (from scikit-learn>=0.17->pyramid.arima) (0.14.0)\n",
            "Requirement already satisfied: patsy>=0.4.0 in /usr/local/lib/python3.6/dist-packages (from statsmodels>=0.9.0->pyramid.arima) (0.5.1)\n",
            "Requirement already satisfied: six>=1.5 in /usr/local/lib/python3.6/dist-packages (from python-dateutil>=2.6.1->pandas>=0.19->pyramid.arima) (1.12.0)\n",
            "Installing collected packages: pyramid.arima\n",
            "Successfully installed pyramid.arima\n"
          ],
          "name": "stdout"
        }
      ]
    },
    {
      "cell_type": "code",
      "metadata": {
        "id": "BV4ZzMjSWOl4",
        "colab_type": "code",
        "outputId": "3b2277f8-bbb4-450a-ef88-6d9466aa1a6f",
        "colab": {
          "base_uri": "https://localhost:8080/",
          "height": 285
        }
      },
      "source": [
        "pip install prophet"
      ],
      "execution_count": 13,
      "outputs": [
        {
          "output_type": "stream",
          "text": [
            "Collecting prophet\n",
            "  Downloading https://files.pythonhosted.org/packages/1b/1c/61c969e76119a8257220869a6b3b57cd2ad4fbe0fd69b9b6845bfcf135aa/prophet-0.1.1.tar.gz\n",
            "Requirement already satisfied: pytz>=2014.9 in /usr/local/lib/python3.6/dist-packages (from prophet) (2018.9)\n",
            "Requirement already satisfied: pandas>=0.15.1 in /usr/local/lib/python3.6/dist-packages (from prophet) (0.25.3)\n",
            "Requirement already satisfied: six>=1.8.0 in /usr/local/lib/python3.6/dist-packages (from prophet) (1.12.0)\n",
            "Requirement already satisfied: python-dateutil>=2.6.1 in /usr/local/lib/python3.6/dist-packages (from pandas>=0.15.1->prophet) (2.6.1)\n",
            "Requirement already satisfied: numpy>=1.13.3 in /usr/local/lib/python3.6/dist-packages (from pandas>=0.15.1->prophet) (1.17.4)\n",
            "Building wheels for collected packages: prophet\n",
            "  Building wheel for prophet (setup.py) ... \u001b[?25l\u001b[?25hdone\n",
            "  Created wheel for prophet: filename=prophet-0.1.1-cp36-none-any.whl size=12168 sha256=07ce9c25087d76e7a6b7def9e58233749050277473fbb90a605c2c0dd7707f02\n",
            "  Stored in directory: /root/.cache/pip/wheels/77/3e/f3/1c536bf1f871f818686e7fbf31cab18d52787a72dea8640756\n",
            "Successfully built prophet\n",
            "Installing collected packages: prophet\n",
            "Successfully installed prophet-0.1.1\n"
          ],
          "name": "stdout"
        }
      ]
    },
    {
      "cell_type": "code",
      "metadata": {
        "id": "N57CcK6Ono-W",
        "colab_type": "code",
        "colab": {}
      },
      "source": [
        "from tbats import TBATS\n",
        "from pmdarima import auto_arima\n",
        "from fbprophet import Prophet"
      ],
      "execution_count": 0,
      "outputs": []
    },
    {
      "cell_type": "markdown",
      "metadata": {
        "id": "QpSMqaX3nG4m",
        "colab_type": "text"
      },
      "source": [
        "MODELS:\n",
        "Forecasting 30-90 Days"
      ]
    },
    {
      "cell_type": "markdown",
      "metadata": {
        "id": "8ST9bD39oUwW",
        "colab_type": "text"
      },
      "source": [
        "Simple Average DONE"
      ]
    },
    {
      "cell_type": "code",
      "metadata": {
        "id": "-EUmVtl_UzLC",
        "colab_type": "code",
        "colab": {}
      },
      "source": [
        "## Error metric - MAPE\n",
        "\n",
        "def mape(y_true, y_pred): \n",
        "    y_true, y_pred = np.array(y_true), np.array(y_pred)\n",
        "    return np.mean(np.abs((y_true - y_pred) / y_true)) * 100\n"
      ],
      "execution_count": 0,
      "outputs": []
    },
    {
      "cell_type": "code",
      "metadata": {
        "id": "KxgeGwKBUl7L",
        "colab_type": "code",
        "colab": {}
      },
      "source": [
        "def sam(ts):\n",
        "    avg = ts.mean()\n",
        "    return(avg)"
      ],
      "execution_count": 0,
      "outputs": []
    },
    {
      "cell_type": "code",
      "metadata": {
        "id": "OFOSMBP5U6kh",
        "colab_type": "code",
        "colab": {}
      },
      "source": [
        "def rolling_cv(data):\n",
        "  final_results_df = pd.DataFrame()\n",
        "  \n",
        "  for local_ticker in data.columns:\n",
        "    df = data[[local_ticker]]\n",
        "    df['sample'] = np.where(df.index < '2000-02-15', 'train', 'test')\n",
        "    df['sample'] = np.where((df.index >= '2000-02-15') & (df.index <= '2000-03-15'), 'crossVal', df['sample'])\n",
        "\n",
        "\n",
        "    # create empty column to capture one step predictions\n",
        "    df['prediction'] = np.nan\n",
        "   \n",
        "    # Get dates during the cross validation slice and sort them\n",
        "    crossVal_Dates = df.index[df['sample'] == 'crossVal'].sort_values()\n",
        "   \n",
        "    # roll the train window forward by one data point with every iteration and predict next point\n",
        "    for crossDate in crossVal_Dates:\n",
        "        local_train_timeSeries = df[[local_ticker]][df.index < crossDate]\n",
        "        prediction = sam(local_train_timeSeries[local_ticker])#****\n",
        "        df.loc[df.index == crossDate, 'prediction'] = prediction\n",
        "   \n",
        "    # filter the predictions from df to calculate error\n",
        "    crossVal_df = df[df.index.isin(crossVal_Dates)]    \n",
        "\n",
        "    mape_local_df = (mape(crossVal_df[local_ticker], crossVal_df['prediction']))  \n",
        "    #return(mean_absolute_percentage_error(crossVal_df[local_ticker], crossVal_df['prediction'])) \n",
        "    local_results_df = pd.DataFrame({'ticker' : local_ticker,\n",
        "                                    'MAPE' : mape_local_df}, index = [0])\n",
        "    final_results_df = final_results_df.append(local_results_df)\n",
        "  return (final_results_df)\n"
      ],
      "execution_count": 0,
      "outputs": []
    },
    {
      "cell_type": "code",
      "metadata": {
        "id": "NiGwLDc2qZEu",
        "colab_type": "code",
        "colab": {
          "base_uri": "https://localhost:8080/",
          "height": 77
        },
        "outputId": "f06ebb99-fdfb-42a3-9307-86ed106f30cb"
      },
      "source": [
        "rolling_cv(p)"
      ],
      "execution_count": 35,
      "outputs": [
        {
          "output_type": "execute_result",
          "data": {
            "text/html": [
              "<div>\n",
              "<style scoped>\n",
              "    .dataframe tbody tr th:only-of-type {\n",
              "        vertical-align: middle;\n",
              "    }\n",
              "\n",
              "    .dataframe tbody tr th {\n",
              "        vertical-align: top;\n",
              "    }\n",
              "\n",
              "    .dataframe thead th {\n",
              "        text-align: right;\n",
              "    }\n",
              "</style>\n",
              "<table border=\"1\" class=\"dataframe\">\n",
              "  <thead>\n",
              "    <tr style=\"text-align: right;\">\n",
              "      <th></th>\n",
              "      <th>ticker</th>\n",
              "      <th>MAPE</th>\n",
              "    </tr>\n",
              "  </thead>\n",
              "  <tbody>\n",
              "    <tr>\n",
              "      <th>0</th>\n",
              "      <td>NVS</td>\n",
              "      <td>6.481251</td>\n",
              "    </tr>\n",
              "  </tbody>\n",
              "</table>\n",
              "</div>"
            ],
            "text/plain": [
              "  ticker      MAPE\n",
              "0    NVS  6.481251"
            ]
          },
          "metadata": {
            "tags": []
          },
          "execution_count": 35
        }
      ]
    },
    {
      "cell_type": "markdown",
      "metadata": {
        "id": "3NDamioqmFdz",
        "colab_type": "text"
      },
      "source": [
        "AutoArima DONE"
      ]
    },
    {
      "cell_type": "code",
      "metadata": {
        "id": "J28sacsTFOHq",
        "colab_type": "code",
        "colab": {}
      },
      "source": [
        "def autoarima(ts,idx):\n",
        "  \n",
        "  model = auto_arima(ts, start_p=1, start_q=1, d=0,max_p=5,max_d= 2, max_q=5, error_action='ignore',suppress_warnings=True)\n",
        "  #trace=True,\n",
        "  model.fit(ts)\n",
        "\n",
        "  forecast = model.predict(n_periods=1)# n_periods\n",
        "  fc = pd.DataFrame(forecast,index = idx,columns=['Prediction'])# valid.index => idx, index must be called with a collection of some kind\n",
        "  return (fc)"
      ],
      "execution_count": 0,
      "outputs": []
    },
    {
      "cell_type": "code",
      "metadata": {
        "id": "MvUL2hfR_iWP",
        "colab_type": "code",
        "colab": {}
      },
      "source": [
        "def aa_cv(data):\n",
        "  final_results_df = pd.DataFrame()\n",
        "  \n",
        "  for local_ticker in data.columns:\n",
        "    df = data[[local_ticker]]\n",
        "    df['sample'] = np.where(df.index < '2000-02-15', 'train', 'test')\n",
        "    df['sample'] = np.where((df.index >= '2000-02-15') & (df.index <= '2000-03-15'), 'crossVal', df['sample'])\n",
        "\n",
        "\n",
        "    # create empty column to capture one step predictions\n",
        "    df['prediction'] = np.nan\n",
        "   \n",
        "    # Get dates during the cross validation slice and sort them\n",
        "    crossVal_Dates = df.index[df['sample'] == 'crossVal'].sort_values()\n",
        "   \n",
        "    # roll the train window forward by one data point with every iteration and predict next point\n",
        "    for crossDate in crossVal_Dates:\n",
        "        local_train_timeSeries = df[[local_ticker]][df.index < crossDate]\n",
        "        #prediction = autoarima(local_train_timeSeries[local_ticker])\n",
        "        prediction = autoarima(local_train_timeSeries[local_ticker],df.loc[df.index == crossDate].index)#****\n",
        "        #print(prediction.values)\n",
        "        df.loc[df.index == crossDate, 'prediction'] = prediction.values\n",
        "   \n",
        "    # filter the predictions from df to calculate error\n",
        "    crossVal_df = df[df.index.isin(crossVal_Dates)]   \n",
        "\n",
        "    mape_local_df = (mape(crossVal_df[local_ticker], crossVal_df['prediction']))  \n",
        "    #return(mean_absolute_percentage_error(crossVal_df[local_ticker], crossVal_df['prediction'])) \n",
        "    local_results_df = pd.DataFrame({'ticker' : local_ticker,\n",
        "                                    'MAPE' : mape_local_df}, index = [0])\n",
        "    final_results_df = final_results_df.append(local_results_df)\n",
        "  return (final_results_df)"
      ],
      "execution_count": 0,
      "outputs": []
    },
    {
      "cell_type": "code",
      "metadata": {
        "id": "w1hIvNE4v4Im",
        "colab_type": "code",
        "colab": {
          "base_uri": "https://localhost:8080/",
          "height": 227
        },
        "outputId": "fe8b91fb-a2c5-4e18-ee9e-df1c5717f463"
      },
      "source": [
        "p.tail()"
      ],
      "execution_count": 61,
      "outputs": [
        {
          "output_type": "execute_result",
          "data": {
            "text/html": [
              "<div>\n",
              "<style scoped>\n",
              "    .dataframe tbody tr th:only-of-type {\n",
              "        vertical-align: middle;\n",
              "    }\n",
              "\n",
              "    .dataframe tbody tr th {\n",
              "        vertical-align: top;\n",
              "    }\n",
              "\n",
              "    .dataframe thead th {\n",
              "        text-align: right;\n",
              "    }\n",
              "</style>\n",
              "<table border=\"1\" class=\"dataframe\">\n",
              "  <thead>\n",
              "    <tr style=\"text-align: right;\">\n",
              "      <th>Symbols</th>\n",
              "      <th>NVS</th>\n",
              "    </tr>\n",
              "    <tr>\n",
              "      <th>Date</th>\n",
              "      <th></th>\n",
              "    </tr>\n",
              "  </thead>\n",
              "  <tbody>\n",
              "    <tr>\n",
              "      <th>2000-03-27</th>\n",
              "      <td>16.108650</td>\n",
              "    </tr>\n",
              "    <tr>\n",
              "      <th>2000-03-28</th>\n",
              "      <td>16.078140</td>\n",
              "    </tr>\n",
              "    <tr>\n",
              "      <th>2000-03-29</th>\n",
              "      <td>16.017122</td>\n",
              "    </tr>\n",
              "    <tr>\n",
              "      <th>2000-03-30</th>\n",
              "      <td>16.108650</td>\n",
              "    </tr>\n",
              "    <tr>\n",
              "      <th>2000-03-31</th>\n",
              "      <td>16.688316</td>\n",
              "    </tr>\n",
              "  </tbody>\n",
              "</table>\n",
              "</div>"
            ],
            "text/plain": [
              "Symbols           NVS\n",
              "Date                 \n",
              "2000-03-27  16.108650\n",
              "2000-03-28  16.078140\n",
              "2000-03-29  16.017122\n",
              "2000-03-30  16.108650\n",
              "2000-03-31  16.688316"
            ]
          },
          "metadata": {
            "tags": []
          },
          "execution_count": 61
        }
      ]
    },
    {
      "cell_type": "code",
      "metadata": {
        "id": "1MXJHSdCUgZg",
        "colab_type": "code",
        "outputId": "7fd1b6d7-148d-4159-ad44-3929f9644c18",
        "colab": {
          "base_uri": "https://localhost:8080/",
          "height": 77
        }
      },
      "source": [
        "aa_cv(p)"
      ],
      "execution_count": 26,
      "outputs": [
        {
          "output_type": "execute_result",
          "data": {
            "text/html": [
              "<div>\n",
              "<style scoped>\n",
              "    .dataframe tbody tr th:only-of-type {\n",
              "        vertical-align: middle;\n",
              "    }\n",
              "\n",
              "    .dataframe tbody tr th {\n",
              "        vertical-align: top;\n",
              "    }\n",
              "\n",
              "    .dataframe thead th {\n",
              "        text-align: right;\n",
              "    }\n",
              "</style>\n",
              "<table border=\"1\" class=\"dataframe\">\n",
              "  <thead>\n",
              "    <tr style=\"text-align: right;\">\n",
              "      <th></th>\n",
              "      <th>ticker</th>\n",
              "      <th>MAPE</th>\n",
              "    </tr>\n",
              "  </thead>\n",
              "  <tbody>\n",
              "    <tr>\n",
              "      <th>0</th>\n",
              "      <td>NVS</td>\n",
              "      <td>1.499655</td>\n",
              "    </tr>\n",
              "  </tbody>\n",
              "</table>\n",
              "</div>"
            ],
            "text/plain": [
              "  ticker      MAPE\n",
              "0    NVS  1.499655"
            ]
          },
          "metadata": {
            "tags": []
          },
          "execution_count": 26
        }
      ]
    },
    {
      "cell_type": "markdown",
      "metadata": {
        "id": "7bnNd1DBsvMI",
        "colab_type": "text"
      },
      "source": [
        "Fourier Transform for AutoArima DONE"
      ]
    },
    {
      "cell_type": "code",
      "metadata": {
        "id": "5v4t7hFJuziz",
        "colab_type": "code",
        "colab": {
          "base_uri": "https://localhost:8080/",
          "height": 257
        },
        "outputId": "d23e8fb5-499b-437f-83b1-c59b6fcf66ac"
      },
      "source": [
        "test = df.loc[:,(['Open', 'Close','High','Adj Close','Low'],slice(None))]\n",
        "test.head()"
      ],
      "execution_count": 54,
      "outputs": [
        {
          "output_type": "execute_result",
          "data": {
            "text/html": [
              "<div>\n",
              "<style scoped>\n",
              "    .dataframe tbody tr th:only-of-type {\n",
              "        vertical-align: middle;\n",
              "    }\n",
              "\n",
              "    .dataframe tbody tr th {\n",
              "        vertical-align: top;\n",
              "    }\n",
              "\n",
              "    .dataframe thead tr th {\n",
              "        text-align: left;\n",
              "    }\n",
              "\n",
              "    .dataframe thead tr:last-of-type th {\n",
              "        text-align: right;\n",
              "    }\n",
              "</style>\n",
              "<table border=\"1\" class=\"dataframe\">\n",
              "  <thead>\n",
              "    <tr>\n",
              "      <th>Attributes</th>\n",
              "      <th>High</th>\n",
              "      <th>Low</th>\n",
              "      <th>Open</th>\n",
              "      <th>Close</th>\n",
              "      <th>Adj Close</th>\n",
              "    </tr>\n",
              "    <tr>\n",
              "      <th>Symbols</th>\n",
              "      <th>NVS</th>\n",
              "      <th>NVS</th>\n",
              "      <th>NVS</th>\n",
              "      <th>NVS</th>\n",
              "      <th>NVS</th>\n",
              "    </tr>\n",
              "    <tr>\n",
              "      <th>Date</th>\n",
              "      <th></th>\n",
              "      <th></th>\n",
              "      <th></th>\n",
              "      <th></th>\n",
              "      <th></th>\n",
              "    </tr>\n",
              "  </thead>\n",
              "  <tbody>\n",
              "    <tr>\n",
              "      <th>2000-01-03</th>\n",
              "      <td>33.154121</td>\n",
              "      <td>32.370071</td>\n",
              "      <td>32.594086</td>\n",
              "      <td>32.594086</td>\n",
              "      <td>17.756123</td>\n",
              "    </tr>\n",
              "    <tr>\n",
              "      <th>2000-01-04</th>\n",
              "      <td>33.490143</td>\n",
              "      <td>31.978046</td>\n",
              "      <td>31.978046</td>\n",
              "      <td>31.978046</td>\n",
              "      <td>17.420527</td>\n",
              "    </tr>\n",
              "    <tr>\n",
              "      <th>2000-01-05</th>\n",
              "      <td>33.826164</td>\n",
              "      <td>31.810036</td>\n",
              "      <td>32.118057</td>\n",
              "      <td>32.118057</td>\n",
              "      <td>17.496799</td>\n",
              "    </tr>\n",
              "    <tr>\n",
              "      <th>2000-01-06</th>\n",
              "      <td>33.378136</td>\n",
              "      <td>31.922043</td>\n",
              "      <td>32.818100</td>\n",
              "      <td>32.818100</td>\n",
              "      <td>17.878160</td>\n",
              "    </tr>\n",
              "    <tr>\n",
              "      <th>2000-01-07</th>\n",
              "      <td>34.274193</td>\n",
              "      <td>32.706093</td>\n",
              "      <td>33.322132</td>\n",
              "      <td>33.322132</td>\n",
              "      <td>18.152739</td>\n",
              "    </tr>\n",
              "  </tbody>\n",
              "</table>\n",
              "</div>"
            ],
            "text/plain": [
              "Attributes       High        Low       Open      Close  Adj Close\n",
              "Symbols           NVS        NVS        NVS        NVS        NVS\n",
              "Date                                                             \n",
              "2000-01-03  33.154121  32.370071  32.594086  32.594086  17.756123\n",
              "2000-01-04  33.490143  31.978046  31.978046  31.978046  17.420527\n",
              "2000-01-05  33.826164  31.810036  32.118057  32.118057  17.496799\n",
              "2000-01-06  33.378136  31.922043  32.818100  32.818100  17.878160\n",
              "2000-01-07  34.274193  32.706093  33.322132  33.322132  18.152739"
            ]
          },
          "metadata": {
            "tags": []
          },
          "execution_count": 54
        }
      ]
    },
    {
      "cell_type": "code",
      "metadata": {
        "id": "4jhjiPDyu6Cf",
        "colab_type": "code",
        "colab": {}
      },
      "source": [
        "test.columns = test.columns.droplevel(1)"
      ],
      "execution_count": 0,
      "outputs": []
    },
    {
      "cell_type": "code",
      "metadata": {
        "id": "0Ydf53UEsu2P",
        "colab_type": "code",
        "colab": {}
      },
      "source": [
        "def ftransform(data):\n",
        "    data = data.reset_index()\n",
        "    data_FT = data[['Date', 'Adj Close']]\n",
        "    close_fft = np.fft.fft(np.asarray(data_FT['Adj Close'].tolist()))\n",
        "    close_fft = np.fft.ifft(close_fft)\n",
        "    #close_fft\n",
        "    fft_df = pd.DataFrame({'fft':close_fft})\n",
        "    #print(fft_df.tail())\n",
        "    fft_df['absolute'] = fft_df['fft'].apply(lambda x: np.abs(x))\n",
        "    fft_df['angle'] = fft_df['fft'].apply(lambda x: np.angle(x))\n",
        "    fft_list = np.asarray(fft_df['fft'].tolist())\n",
        "    fft_list_m10= np.copy(fft_list) \n",
        "    fft_list_m10[100:-100]=0\n",
        "    # 100 components\n",
        "    data['Fourier'] = pd.DataFrame(fft_list_m10).apply(lambda x: np.abs(x))\n",
        "    data = data.set_index('Date')\n",
        "    data = data[['Fourier']]\n",
        "    print(data[-10:-1])\n",
        "    #dataset['absolute'] = dataset['Fourier'].apply(lambda x: np.abs(x))\n",
        "    return data"
      ],
      "execution_count": 0,
      "outputs": []
    },
    {
      "cell_type": "code",
      "metadata": {
        "id": "pCQwZGf8tAsO",
        "colab_type": "code",
        "colab": {
          "base_uri": "https://localhost:8080/",
          "height": 212
        },
        "outputId": "b14cc25f-fb56-4ea5-f4b5-7367da90b9dc"
      },
      "source": [
        "dta = ftransform(test)"
      ],
      "execution_count": 70,
      "outputs": [
        {
          "output_type": "stream",
          "text": [
            "Attributes    Fourier\n",
            "Date                 \n",
            "2018-12-20  73.109093\n",
            "2018-12-21  72.345284\n",
            "2018-12-24  71.598831\n",
            "2018-12-26  73.577797\n",
            "2018-12-27  72.970222\n",
            "2018-12-28  74.003105\n",
            "2018-12-31  74.480492\n",
            "2019-01-02  72.961540\n",
            "2019-01-03  73.551765\n"
          ],
          "name": "stdout"
        }
      ]
    },
    {
      "cell_type": "code",
      "metadata": {
        "id": "E2NrUg2Qsupa",
        "colab_type": "code",
        "colab": {
          "base_uri": "https://localhost:8080/",
          "height": 227
        },
        "outputId": "85e30691-ab29-4d69-ba41-06b85cd9f83a"
      },
      "source": [
        "dta  = dta.loc['2000-01-01':'2000-04-01']\n",
        "dta.tail()"
      ],
      "execution_count": 71,
      "outputs": [
        {
          "output_type": "execute_result",
          "data": {
            "text/html": [
              "<div>\n",
              "<style scoped>\n",
              "    .dataframe tbody tr th:only-of-type {\n",
              "        vertical-align: middle;\n",
              "    }\n",
              "\n",
              "    .dataframe tbody tr th {\n",
              "        vertical-align: top;\n",
              "    }\n",
              "\n",
              "    .dataframe thead th {\n",
              "        text-align: right;\n",
              "    }\n",
              "</style>\n",
              "<table border=\"1\" class=\"dataframe\">\n",
              "  <thead>\n",
              "    <tr style=\"text-align: right;\">\n",
              "      <th>Attributes</th>\n",
              "      <th>Fourier</th>\n",
              "    </tr>\n",
              "    <tr>\n",
              "      <th>Date</th>\n",
              "      <th></th>\n",
              "    </tr>\n",
              "  </thead>\n",
              "  <tbody>\n",
              "    <tr>\n",
              "      <th>2000-03-27</th>\n",
              "      <td>16.108650</td>\n",
              "    </tr>\n",
              "    <tr>\n",
              "      <th>2000-03-28</th>\n",
              "      <td>16.078140</td>\n",
              "    </tr>\n",
              "    <tr>\n",
              "      <th>2000-03-29</th>\n",
              "      <td>16.017122</td>\n",
              "    </tr>\n",
              "    <tr>\n",
              "      <th>2000-03-30</th>\n",
              "      <td>16.108650</td>\n",
              "    </tr>\n",
              "    <tr>\n",
              "      <th>2000-03-31</th>\n",
              "      <td>16.688316</td>\n",
              "    </tr>\n",
              "  </tbody>\n",
              "</table>\n",
              "</div>"
            ],
            "text/plain": [
              "Attributes    Fourier\n",
              "Date                 \n",
              "2000-03-27  16.108650\n",
              "2000-03-28  16.078140\n",
              "2000-03-29  16.017122\n",
              "2000-03-30  16.108650\n",
              "2000-03-31  16.688316"
            ]
          },
          "metadata": {
            "tags": []
          },
          "execution_count": 71
        }
      ]
    },
    {
      "cell_type": "code",
      "metadata": {
        "id": "XGmsH1hNvX98",
        "colab_type": "code",
        "colab": {
          "base_uri": "https://localhost:8080/",
          "height": 77
        },
        "outputId": "e4776fa6-e6ef-456a-97b2-07290a5e1838"
      },
      "source": [
        "aa_cv(dta)"
      ],
      "execution_count": 72,
      "outputs": [
        {
          "output_type": "execute_result",
          "data": {
            "text/html": [
              "<div>\n",
              "<style scoped>\n",
              "    .dataframe tbody tr th:only-of-type {\n",
              "        vertical-align: middle;\n",
              "    }\n",
              "\n",
              "    .dataframe tbody tr th {\n",
              "        vertical-align: top;\n",
              "    }\n",
              "\n",
              "    .dataframe thead th {\n",
              "        text-align: right;\n",
              "    }\n",
              "</style>\n",
              "<table border=\"1\" class=\"dataframe\">\n",
              "  <thead>\n",
              "    <tr style=\"text-align: right;\">\n",
              "      <th></th>\n",
              "      <th>ticker</th>\n",
              "      <th>MAPE</th>\n",
              "    </tr>\n",
              "  </thead>\n",
              "  <tbody>\n",
              "    <tr>\n",
              "      <th>0</th>\n",
              "      <td>Fourier</td>\n",
              "      <td>1.499665</td>\n",
              "    </tr>\n",
              "  </tbody>\n",
              "</table>\n",
              "</div>"
            ],
            "text/plain": [
              "    ticker      MAPE\n",
              "0  Fourier  1.499665"
            ]
          },
          "metadata": {
            "tags": []
          },
          "execution_count": 72
        }
      ]
    },
    {
      "cell_type": "markdown",
      "metadata": {
        "id": "RCGG-FzWmKva",
        "colab_type": "text"
      },
      "source": [
        "TBATS DONE"
      ]
    },
    {
      "cell_type": "code",
      "metadata": {
        "id": "ai4nGm_5PmG8",
        "colab_type": "code",
        "colab": {}
      },
      "source": [
        "# Fit the model\n",
        "def tbats(ts):\n",
        "  estimator = TBATS(seasonal_periods=(7, 30),use_box_cox=False)\n",
        "  model = estimator.fit(ts)\n",
        "\n",
        "  model_forecast = model.forecast(steps=1)\n",
        "  return model_forecast"
      ],
      "execution_count": 0,
      "outputs": []
    },
    {
      "cell_type": "code",
      "metadata": {
        "id": "_VwQADidPEpI",
        "colab_type": "code",
        "colab": {}
      },
      "source": [
        "def tbats_cv(data):\n",
        "  final_results_df = pd.DataFrame()\n",
        "  \n",
        "  for local_ticker in data.columns:\n",
        "    df = data[[local_ticker]]\n",
        "    df['sample'] = np.where(df.index < '2000-02-15', 'train', 'test')\n",
        "    df['sample'] = np.where((df.index >= '2000-02-15') & (df.index <= '2000-03-15'), 'crossVal', df['sample'])\n",
        "\n",
        "\n",
        "    # create empty column to capture one step predictions\n",
        "    df['prediction'] = np.nan\n",
        "   \n",
        "    # Get dates during the cross validation slice and sort them\n",
        "    crossVal_Dates = df.index[df['sample'] == 'crossVal'].sort_values()\n",
        "   \n",
        "    # roll the train window forward by one data point with every iteration and predict next point\n",
        "    for crossDate in crossVal_Dates:\n",
        "        local_train_timeSeries = df[[local_ticker]][df.index < crossDate]\n",
        "        #prediction = autoarima(local_train_timeSeries[local_ticker])\n",
        "        prediction = tbats(local_train_timeSeries[local_ticker])#****\n",
        "        df.loc[df.index == crossDate, 'prediction'] = prediction\n",
        "   \n",
        "    # filter the predictions from df to calculate error\n",
        "    crossVal_df = df[df.index.isin(crossVal_Dates)]    \n",
        "\n",
        "    mape_local_df = (mape(crossVal_df[local_ticker], crossVal_df['prediction']))  \n",
        "    #return(mean_absolute_percentage_error(crossVal_df[local_ticker], crossVal_df['prediction'])) \n",
        "    local_results_df = pd.DataFrame({'ticker' : local_ticker,\n",
        "                                    'MAPE' : mape_local_df}, index = [0])\n",
        "    final_results_df = final_results_df.append(local_results_df)\n",
        "  return (final_results_df)"
      ],
      "execution_count": 0,
      "outputs": []
    },
    {
      "cell_type": "code",
      "metadata": {
        "id": "pzBszpEPPV4I",
        "colab_type": "code",
        "outputId": "264e5739-b012-4c46-dfdc-c0da674c82e0",
        "colab": {
          "base_uri": "https://localhost:8080/",
          "height": 77
        }
      },
      "source": [
        "tbats_cv(p)\n",
        "# about 10 minutes to complete"
      ],
      "execution_count": 31,
      "outputs": [
        {
          "output_type": "execute_result",
          "data": {
            "text/html": [
              "<div>\n",
              "<style scoped>\n",
              "    .dataframe tbody tr th:only-of-type {\n",
              "        vertical-align: middle;\n",
              "    }\n",
              "\n",
              "    .dataframe tbody tr th {\n",
              "        vertical-align: top;\n",
              "    }\n",
              "\n",
              "    .dataframe thead th {\n",
              "        text-align: right;\n",
              "    }\n",
              "</style>\n",
              "<table border=\"1\" class=\"dataframe\">\n",
              "  <thead>\n",
              "    <tr style=\"text-align: right;\">\n",
              "      <th></th>\n",
              "      <th>ticker</th>\n",
              "      <th>MAPE</th>\n",
              "    </tr>\n",
              "  </thead>\n",
              "  <tbody>\n",
              "    <tr>\n",
              "      <th>0</th>\n",
              "      <td>NVS</td>\n",
              "      <td>3.126702</td>\n",
              "    </tr>\n",
              "  </tbody>\n",
              "</table>\n",
              "</div>"
            ],
            "text/plain": [
              "  ticker      MAPE\n",
              "0    NVS  3.126702"
            ]
          },
          "metadata": {
            "tags": []
          },
          "execution_count": 31
        }
      ]
    },
    {
      "cell_type": "markdown",
      "metadata": {
        "id": "G8QAQtrtmXgC",
        "colab_type": "text"
      },
      "source": [
        "FB Prophet DONE"
      ]
    },
    {
      "cell_type": "code",
      "metadata": {
        "id": "_kO6XJbymXLb",
        "colab_type": "code",
        "colab": {}
      },
      "source": [
        "def prophet(df,local_ticker):\n",
        "  fb = df.reset_index()\n",
        "  fb = fb.rename(columns = {'Date':'ds', local_ticker:'y'})\n",
        "  m = Prophet()\n",
        "  m.fit(fb)\n",
        "  future = m.make_future_dataframe(periods=1)\n",
        "  forecast = m.predict(future)\n",
        "  return forecast.iloc[-1][-1]"
      ],
      "execution_count": 0,
      "outputs": []
    },
    {
      "cell_type": "code",
      "metadata": {
        "id": "WWTpqzfkiVQ5",
        "colab_type": "code",
        "colab": {}
      },
      "source": [
        "def fb_cv(data):\n",
        "  final_results_df = pd.DataFrame()\n",
        "  \n",
        "  for local_ticker in data.columns:\n",
        "    df = data[[local_ticker]]\n",
        "    df['sample'] = np.where(df.index < '2000-02-15', 'train', 'test')\n",
        "    df['sample'] = np.where((df.index >= '2000-02-15') & (df.index <= '2000-03-15'), 'crossVal', df['sample'])\n",
        "\n",
        "\n",
        "    # create empty column to capture one step predictions\n",
        "    df['prediction'] = np.nan\n",
        "   \n",
        "    # Get dates during the cross validation slice and sort them\n",
        "    crossVal_Dates = df.index[df['sample'] == 'crossVal'].sort_values()\n",
        "   \n",
        "    # roll the train window forward by one data point with every iteration and predict next point\n",
        "    for crossDate in crossVal_Dates:\n",
        "        local_train_timeSeries = df[[local_ticker]][df.index < crossDate]\n",
        "        #prediction = autoarima(local_train_timeSeries[local_ticker])\n",
        "        prediction = prophet(local_train_timeSeries[local_ticker],local_ticker)#****\n",
        "        df.loc[df.index == crossDate, 'prediction'] = prediction\n",
        "   \n",
        "    # filter the predictions from df to calculate error\n",
        "    crossVal_df = df[df.index.isin(crossVal_Dates)]    \n",
        "\n",
        "    mape_local_df = (mape(crossVal_df[local_ticker], crossVal_df['prediction']))  \n",
        "    #return(mean_absolute_percentage_error(crossVal_df[local_ticker], crossVal_df['prediction'])) \n",
        "    local_results_df = pd.DataFrame({'ticker' : local_ticker,\n",
        "                                    'MAPE' : mape_local_df}, index = [0])\n",
        "    final_results_df = final_results_df.append(local_results_df)\n",
        "  return (final_results_df)"
      ],
      "execution_count": 0,
      "outputs": []
    },
    {
      "cell_type": "code",
      "metadata": {
        "id": "YZVJW0JOioc8",
        "colab_type": "code",
        "outputId": "19b7b675-dded-4714-a5cf-8cba92b6da3d",
        "colab": {
          "base_uri": "https://localhost:8080/",
          "height": 895
        }
      },
      "source": [
        "fb_cv(p)"
      ],
      "execution_count": 38,
      "outputs": [
        {
          "output_type": "stream",
          "text": [
            "INFO:numexpr.utils:NumExpr defaulting to 2 threads.\n",
            "INFO:fbprophet:Disabling yearly seasonality. Run prophet with yearly_seasonality=True to override this.\n",
            "INFO:fbprophet:Disabling daily seasonality. Run prophet with daily_seasonality=True to override this.\n",
            "INFO:fbprophet:n_changepoints greater than number of observations.Using 23.\n",
            "INFO:fbprophet:Disabling yearly seasonality. Run prophet with yearly_seasonality=True to override this.\n",
            "INFO:fbprophet:Disabling daily seasonality. Run prophet with daily_seasonality=True to override this.\n",
            "INFO:fbprophet:n_changepoints greater than number of observations.Using 23.\n",
            "INFO:fbprophet:Disabling yearly seasonality. Run prophet with yearly_seasonality=True to override this.\n",
            "INFO:fbprophet:Disabling daily seasonality. Run prophet with daily_seasonality=True to override this.\n",
            "INFO:fbprophet:n_changepoints greater than number of observations.Using 24.\n",
            "INFO:fbprophet:Disabling yearly seasonality. Run prophet with yearly_seasonality=True to override this.\n",
            "INFO:fbprophet:Disabling daily seasonality. Run prophet with daily_seasonality=True to override this.\n",
            "INFO:fbprophet:Disabling yearly seasonality. Run prophet with yearly_seasonality=True to override this.\n",
            "INFO:fbprophet:Disabling daily seasonality. Run prophet with daily_seasonality=True to override this.\n",
            "INFO:fbprophet:Disabling yearly seasonality. Run prophet with yearly_seasonality=True to override this.\n",
            "INFO:fbprophet:Disabling daily seasonality. Run prophet with daily_seasonality=True to override this.\n",
            "INFO:fbprophet:Disabling yearly seasonality. Run prophet with yearly_seasonality=True to override this.\n",
            "INFO:fbprophet:Disabling daily seasonality. Run prophet with daily_seasonality=True to override this.\n",
            "INFO:fbprophet:Disabling yearly seasonality. Run prophet with yearly_seasonality=True to override this.\n",
            "INFO:fbprophet:Disabling daily seasonality. Run prophet with daily_seasonality=True to override this.\n",
            "INFO:fbprophet:Disabling yearly seasonality. Run prophet with yearly_seasonality=True to override this.\n",
            "INFO:fbprophet:Disabling daily seasonality. Run prophet with daily_seasonality=True to override this.\n",
            "INFO:fbprophet:Disabling yearly seasonality. Run prophet with yearly_seasonality=True to override this.\n",
            "INFO:fbprophet:Disabling daily seasonality. Run prophet with daily_seasonality=True to override this.\n",
            "INFO:fbprophet:Disabling yearly seasonality. Run prophet with yearly_seasonality=True to override this.\n",
            "INFO:fbprophet:Disabling daily seasonality. Run prophet with daily_seasonality=True to override this.\n",
            "INFO:fbprophet:Disabling yearly seasonality. Run prophet with yearly_seasonality=True to override this.\n",
            "INFO:fbprophet:Disabling daily seasonality. Run prophet with daily_seasonality=True to override this.\n",
            "INFO:fbprophet:Disabling yearly seasonality. Run prophet with yearly_seasonality=True to override this.\n",
            "INFO:fbprophet:Disabling daily seasonality. Run prophet with daily_seasonality=True to override this.\n",
            "INFO:fbprophet:Disabling yearly seasonality. Run prophet with yearly_seasonality=True to override this.\n",
            "INFO:fbprophet:Disabling daily seasonality. Run prophet with daily_seasonality=True to override this.\n",
            "INFO:fbprophet:Disabling yearly seasonality. Run prophet with yearly_seasonality=True to override this.\n",
            "INFO:fbprophet:Disabling daily seasonality. Run prophet with daily_seasonality=True to override this.\n",
            "INFO:fbprophet:Disabling yearly seasonality. Run prophet with yearly_seasonality=True to override this.\n",
            "INFO:fbprophet:Disabling daily seasonality. Run prophet with daily_seasonality=True to override this.\n",
            "INFO:fbprophet:Disabling yearly seasonality. Run prophet with yearly_seasonality=True to override this.\n",
            "INFO:fbprophet:Disabling daily seasonality. Run prophet with daily_seasonality=True to override this.\n",
            "INFO:fbprophet:Disabling yearly seasonality. Run prophet with yearly_seasonality=True to override this.\n",
            "INFO:fbprophet:Disabling daily seasonality. Run prophet with daily_seasonality=True to override this.\n",
            "INFO:fbprophet:Disabling yearly seasonality. Run prophet with yearly_seasonality=True to override this.\n",
            "INFO:fbprophet:Disabling daily seasonality. Run prophet with daily_seasonality=True to override this.\n",
            "INFO:fbprophet:Disabling yearly seasonality. Run prophet with yearly_seasonality=True to override this.\n",
            "INFO:fbprophet:Disabling daily seasonality. Run prophet with daily_seasonality=True to override this.\n",
            "INFO:fbprophet:Disabling yearly seasonality. Run prophet with yearly_seasonality=True to override this.\n",
            "INFO:fbprophet:Disabling daily seasonality. Run prophet with daily_seasonality=True to override this.\n"
          ],
          "name": "stderr"
        },
        {
          "output_type": "execute_result",
          "data": {
            "text/html": [
              "<div>\n",
              "<style scoped>\n",
              "    .dataframe tbody tr th:only-of-type {\n",
              "        vertical-align: middle;\n",
              "    }\n",
              "\n",
              "    .dataframe tbody tr th {\n",
              "        vertical-align: top;\n",
              "    }\n",
              "\n",
              "    .dataframe thead th {\n",
              "        text-align: right;\n",
              "    }\n",
              "</style>\n",
              "<table border=\"1\" class=\"dataframe\">\n",
              "  <thead>\n",
              "    <tr style=\"text-align: right;\">\n",
              "      <th></th>\n",
              "      <th>ticker</th>\n",
              "      <th>MAPE</th>\n",
              "    </tr>\n",
              "  </thead>\n",
              "  <tbody>\n",
              "    <tr>\n",
              "      <th>0</th>\n",
              "      <td>NVS</td>\n",
              "      <td>36.877404</td>\n",
              "    </tr>\n",
              "  </tbody>\n",
              "</table>\n",
              "</div>"
            ],
            "text/plain": [
              "  ticker       MAPE\n",
              "0    NVS  36.877404"
            ]
          },
          "metadata": {
            "tags": []
          },
          "execution_count": 38
        }
      ]
    },
    {
      "cell_type": "markdown",
      "metadata": {
        "id": "0kIIkOYurVuW",
        "colab_type": "text"
      },
      "source": [
        "LSTM DONE"
      ]
    },
    {
      "cell_type": "code",
      "metadata": {
        "id": "TJCkXslhzHiV",
        "colab_type": "code",
        "colab": {
          "base_uri": "https://localhost:8080/",
          "height": 390
        },
        "outputId": "569bc1cf-439e-4bbb-a788-f0232660b8d7"
      },
      "source": [
        "pip install tensorflow"
      ],
      "execution_count": 75,
      "outputs": [
        {
          "output_type": "stream",
          "text": [
            "Requirement already satisfied: tensorflow in /usr/local/lib/python3.6/dist-packages (1.15.0)\n",
            "Requirement already satisfied: six>=1.10.0 in /usr/local/lib/python3.6/dist-packages (from tensorflow) (1.12.0)\n",
            "Requirement already satisfied: protobuf>=3.6.1 in /usr/local/lib/python3.6/dist-packages (from tensorflow) (3.10.0)\n",
            "Requirement already satisfied: tensorflow-estimator==1.15.1 in /usr/local/lib/python3.6/dist-packages (from tensorflow) (1.15.1)\n",
            "Requirement already satisfied: termcolor>=1.1.0 in /usr/local/lib/python3.6/dist-packages (from tensorflow) (1.1.0)\n",
            "Requirement already satisfied: tensorboard<1.16.0,>=1.15.0 in /usr/local/lib/python3.6/dist-packages (from tensorflow) (1.15.0)\n",
            "Requirement already satisfied: wheel>=0.26 in /usr/local/lib/python3.6/dist-packages (from tensorflow) (0.33.6)\n",
            "Requirement already satisfied: google-pasta>=0.1.6 in /usr/local/lib/python3.6/dist-packages (from tensorflow) (0.1.8)\n",
            "Requirement already satisfied: numpy<2.0,>=1.16.0 in /usr/local/lib/python3.6/dist-packages (from tensorflow) (1.17.4)\n",
            "Requirement already satisfied: absl-py>=0.7.0 in /usr/local/lib/python3.6/dist-packages (from tensorflow) (0.8.1)\n",
            "Requirement already satisfied: keras-preprocessing>=1.0.5 in /usr/local/lib/python3.6/dist-packages (from tensorflow) (1.1.0)\n",
            "Requirement already satisfied: opt-einsum>=2.3.2 in /usr/local/lib/python3.6/dist-packages (from tensorflow) (3.1.0)\n",
            "Requirement already satisfied: wrapt>=1.11.1 in /usr/local/lib/python3.6/dist-packages (from tensorflow) (1.11.2)\n",
            "Requirement already satisfied: grpcio>=1.8.6 in /usr/local/lib/python3.6/dist-packages (from tensorflow) (1.15.0)\n",
            "Requirement already satisfied: keras-applications>=1.0.8 in /usr/local/lib/python3.6/dist-packages (from tensorflow) (1.0.8)\n",
            "Requirement already satisfied: astor>=0.6.0 in /usr/local/lib/python3.6/dist-packages (from tensorflow) (0.8.0)\n",
            "Requirement already satisfied: gast==0.2.2 in /usr/local/lib/python3.6/dist-packages (from tensorflow) (0.2.2)\n",
            "Requirement already satisfied: setuptools in /usr/local/lib/python3.6/dist-packages (from protobuf>=3.6.1->tensorflow) (41.4.0)\n",
            "Requirement already satisfied: werkzeug>=0.11.15 in /usr/local/lib/python3.6/dist-packages (from tensorboard<1.16.0,>=1.15.0->tensorflow) (0.16.0)\n",
            "Requirement already satisfied: markdown>=2.6.8 in /usr/local/lib/python3.6/dist-packages (from tensorboard<1.16.0,>=1.15.0->tensorflow) (3.1.1)\n",
            "Requirement already satisfied: h5py in /usr/local/lib/python3.6/dist-packages (from keras-applications>=1.0.8->tensorflow) (2.8.0)\n"
          ],
          "name": "stdout"
        }
      ]
    },
    {
      "cell_type": "code",
      "metadata": {
        "id": "nTa5otqSrUdY",
        "colab_type": "code",
        "colab": {}
      },
      "source": [
        "from keras.models import Sequential\n",
        "from keras.layers import Dense\n",
        "from keras.layers import LSTM\n",
        "from keras.layers import Dropout\n",
        "from keras.layers import Flatten\n",
        "from keras.layers import Activation"
      ],
      "execution_count": 0,
      "outputs": []
    },
    {
      "cell_type": "code",
      "metadata": {
        "id": "Iy-u1l5mrUaL",
        "colab_type": "code",
        "colab": {}
      },
      "source": [
        "from sklearn.preprocessing import MinMaxScaler"
      ],
      "execution_count": 0,
      "outputs": []
    },
    {
      "cell_type": "code",
      "metadata": {
        "id": "0Gx5EnDorUQS",
        "colab_type": "code",
        "colab": {
          "base_uri": "https://localhost:8080/",
          "height": 227
        },
        "outputId": "ae3c090a-4e32-487a-ca3e-42249fb8e1fb"
      },
      "source": [
        "dataset = test.copy()\n",
        "dataset.head()"
      ],
      "execution_count": 82,
      "outputs": [
        {
          "output_type": "execute_result",
          "data": {
            "text/html": [
              "<div>\n",
              "<style scoped>\n",
              "    .dataframe tbody tr th:only-of-type {\n",
              "        vertical-align: middle;\n",
              "    }\n",
              "\n",
              "    .dataframe tbody tr th {\n",
              "        vertical-align: top;\n",
              "    }\n",
              "\n",
              "    .dataframe thead th {\n",
              "        text-align: right;\n",
              "    }\n",
              "</style>\n",
              "<table border=\"1\" class=\"dataframe\">\n",
              "  <thead>\n",
              "    <tr style=\"text-align: right;\">\n",
              "      <th>Attributes</th>\n",
              "      <th>High</th>\n",
              "      <th>Low</th>\n",
              "      <th>Open</th>\n",
              "      <th>Close</th>\n",
              "      <th>Adj Close</th>\n",
              "    </tr>\n",
              "    <tr>\n",
              "      <th>Date</th>\n",
              "      <th></th>\n",
              "      <th></th>\n",
              "      <th></th>\n",
              "      <th></th>\n",
              "      <th></th>\n",
              "    </tr>\n",
              "  </thead>\n",
              "  <tbody>\n",
              "    <tr>\n",
              "      <th>2000-01-03</th>\n",
              "      <td>33.154121</td>\n",
              "      <td>32.370071</td>\n",
              "      <td>32.594086</td>\n",
              "      <td>32.594086</td>\n",
              "      <td>17.756123</td>\n",
              "    </tr>\n",
              "    <tr>\n",
              "      <th>2000-01-04</th>\n",
              "      <td>33.490143</td>\n",
              "      <td>31.978046</td>\n",
              "      <td>31.978046</td>\n",
              "      <td>31.978046</td>\n",
              "      <td>17.420527</td>\n",
              "    </tr>\n",
              "    <tr>\n",
              "      <th>2000-01-05</th>\n",
              "      <td>33.826164</td>\n",
              "      <td>31.810036</td>\n",
              "      <td>32.118057</td>\n",
              "      <td>32.118057</td>\n",
              "      <td>17.496799</td>\n",
              "    </tr>\n",
              "    <tr>\n",
              "      <th>2000-01-06</th>\n",
              "      <td>33.378136</td>\n",
              "      <td>31.922043</td>\n",
              "      <td>32.818100</td>\n",
              "      <td>32.818100</td>\n",
              "      <td>17.878160</td>\n",
              "    </tr>\n",
              "    <tr>\n",
              "      <th>2000-01-07</th>\n",
              "      <td>34.274193</td>\n",
              "      <td>32.706093</td>\n",
              "      <td>33.322132</td>\n",
              "      <td>33.322132</td>\n",
              "      <td>18.152739</td>\n",
              "    </tr>\n",
              "  </tbody>\n",
              "</table>\n",
              "</div>"
            ],
            "text/plain": [
              "Attributes       High        Low       Open      Close  Adj Close\n",
              "Date                                                             \n",
              "2000-01-03  33.154121  32.370071  32.594086  32.594086  17.756123\n",
              "2000-01-04  33.490143  31.978046  31.978046  31.978046  17.420527\n",
              "2000-01-05  33.826164  31.810036  32.118057  32.118057  17.496799\n",
              "2000-01-06  33.378136  31.922043  32.818100  32.818100  17.878160\n",
              "2000-01-07  34.274193  32.706093  33.322132  33.322132  18.152739"
            ]
          },
          "metadata": {
            "tags": []
          },
          "execution_count": 82
        }
      ]
    },
    {
      "cell_type": "code",
      "metadata": {
        "id": "C9SaUsy_0T64",
        "colab_type": "code",
        "colab": {}
      },
      "source": [
        "# IMPORTING DATASET \n",
        "dataset = dataset.reindex(index = dataset.index[::-1])"
      ],
      "execution_count": 0,
      "outputs": []
    },
    {
      "cell_type": "code",
      "metadata": {
        "id": "tuSd5fI90vDA",
        "colab_type": "code",
        "colab": {}
      },
      "source": [
        "# CREATING OWN INDEX FOR FLEXIBILITY\n",
        "obs = np.arange(1, len(dataset) + 1, 1)"
      ],
      "execution_count": 0,
      "outputs": []
    },
    {
      "cell_type": "code",
      "metadata": {
        "id": "wpGfv_sl06kE",
        "colab_type": "code",
        "colab": {}
      },
      "source": [
        "# TAKING DIFFERENT INDICATORS FOR PREDICTION\n",
        "OHLC_avg = p.mean(axis = 1)"
      ],
      "execution_count": 0,
      "outputs": []
    },
    {
      "cell_type": "code",
      "metadata": {
        "id": "ZohOhDTi09WW",
        "colab_type": "code",
        "colab": {}
      },
      "source": [
        "# PREPARATION OF TIME SERIES DATASE\n",
        "OHLC_avg = np.reshape(OHLC_avg.values, (len(OHLC_avg),1)) \n",
        "scaler = MinMaxScaler(feature_range=(0, 1))\n",
        "OHLC_avg = scaler.fit_transform(OHLC_avg)"
      ],
      "execution_count": 0,
      "outputs": []
    },
    {
      "cell_type": "code",
      "metadata": {
        "id": "8_faL2Fl0_1P",
        "colab_type": "code",
        "colab": {}
      },
      "source": [
        "# TRAIN-TEST SPLIT\n",
        "train_OHLC = int(len(OHLC_avg) * 0.75)\n",
        "test_OHLC = len(OHLC_avg) - train_OHLC\n",
        "train_OHLC, test_OHLC = OHLC_avg[0:train_OHLC,:], OHLC_avg[train_OHLC:len(OHLC_avg),:]"
      ],
      "execution_count": 0,
      "outputs": []
    },
    {
      "cell_type": "code",
      "metadata": {
        "id": "fWuQOlvs1TEx",
        "colab_type": "code",
        "colab": {}
      },
      "source": [
        "# FUNCTION TO CREATE 1D DATA INTO TIME SERIES DATASET\n",
        "def new_dataset(dataset, step_size):\n",
        "  data_X, data_Y = [], []\n",
        "  limit = len(dataset)-step_size-1\n",
        "\n",
        "  for i in range(limit):\n",
        "    j = i + step_size\n",
        "    #a = dataset.iloc[i:j, 0]\n",
        "    a = dataset[i:j, 0]\n",
        "    #print(a)\n",
        "    data_X.append(a)\n",
        "    #b = dataset.iloc[j, 0]\n",
        "    b = dataset[j, 0]\n",
        "    #print(b)\n",
        "    data_Y.append(b)\n",
        "  return np.asarray(data_X), np.asarray(data_Y)\n",
        "  #return np.asarray(data_X), np.asarray(data_Y)"
      ],
      "execution_count": 0,
      "outputs": []
    },
    {
      "cell_type": "code",
      "metadata": {
        "id": "wokKMO7g1JBJ",
        "colab_type": "code",
        "colab": {}
      },
      "source": [
        "# TIME-SERIES DATASET (FOR TIME T, VALUES FOR TIME T+1)\n",
        "trainX, trainY = new_dataset(train_OHLC, 1)\n",
        "testX, testY = new_dataset(test_OHLC, 1)"
      ],
      "execution_count": 0,
      "outputs": []
    },
    {
      "cell_type": "code",
      "metadata": {
        "id": "YObYBRru1LTa",
        "colab_type": "code",
        "colab": {}
      },
      "source": [
        "# RESHAPING TRAIN AND TEST DATA\n",
        "trainX = np.reshape(trainX, (trainX.shape[0], 1, trainX.shape[1]))\n",
        "testX = np.reshape(testX, (testX.shape[0], 1, testX.shape[1]))\n",
        "step_size = 1"
      ],
      "execution_count": 0,
      "outputs": []
    },
    {
      "cell_type": "code",
      "metadata": {
        "id": "qe8pXIWq1a6H",
        "colab_type": "code",
        "colab": {}
      },
      "source": [
        "# LSTM MODEL\n",
        "model = Sequential()\n",
        "model.add(LSTM(32, input_shape=(1, step_size), return_sequences = True))\n",
        "model.add(LSTM(16))\n",
        "model.add(Dense(1))\n",
        "model.add(Activation('linear'))"
      ],
      "execution_count": 0,
      "outputs": []
    },
    {
      "cell_type": "code",
      "metadata": {
        "id": "Qnrvncek1g_r",
        "colab_type": "code",
        "colab": {
          "base_uri": "https://localhost:8080/",
          "height": 1000
        },
        "outputId": "5a600001-0361-4b44-a78d-556ffd3e880e"
      },
      "source": [
        "# MODEL COMPILING AND TRAINING\n",
        "model.compile(loss='mean_squared_error', optimizer='adagrad',metrics = ['mae']) \n",
        "# compare mae, adam, adagrad\n",
        "model.fit(trainX, trainY, epochs=50, batch_size=1, verbose=2)"
      ],
      "execution_count": 96,
      "outputs": [
        {
          "output_type": "stream",
          "text": [
            "WARNING:tensorflow:From /usr/local/lib/python3.6/dist-packages/keras/optimizers.py:793: The name tf.train.Optimizer is deprecated. Please use tf.compat.v1.train.Optimizer instead.\n",
            "\n",
            "WARNING:tensorflow:From /usr/local/lib/python3.6/dist-packages/tensorflow_core/python/ops/math_grad.py:1424: where (from tensorflow.python.ops.array_ops) is deprecated and will be removed in a future version.\n",
            "Instructions for updating:\n",
            "Use tf.where in 2.0, which has the same broadcast rule as np.where\n",
            "WARNING:tensorflow:From /usr/local/lib/python3.6/dist-packages/keras/backend/tensorflow_backend.py:1033: The name tf.assign_add is deprecated. Please use tf.compat.v1.assign_add instead.\n",
            "\n",
            "WARNING:tensorflow:From /usr/local/lib/python3.6/dist-packages/keras/backend/tensorflow_backend.py:1020: The name tf.assign is deprecated. Please use tf.compat.v1.assign instead.\n",
            "\n",
            "WARNING:tensorflow:From /usr/local/lib/python3.6/dist-packages/keras/backend/tensorflow_backend.py:3005: The name tf.Session is deprecated. Please use tf.compat.v1.Session instead.\n",
            "\n",
            "WARNING:tensorflow:From /usr/local/lib/python3.6/dist-packages/keras/backend/tensorflow_backend.py:190: The name tf.get_default_session is deprecated. Please use tf.compat.v1.get_default_session instead.\n",
            "\n",
            "WARNING:tensorflow:From /usr/local/lib/python3.6/dist-packages/keras/backend/tensorflow_backend.py:197: The name tf.ConfigProto is deprecated. Please use tf.compat.v1.ConfigProto instead.\n",
            "\n",
            "WARNING:tensorflow:From /usr/local/lib/python3.6/dist-packages/keras/backend/tensorflow_backend.py:207: The name tf.global_variables is deprecated. Please use tf.compat.v1.global_variables instead.\n",
            "\n",
            "WARNING:tensorflow:From /usr/local/lib/python3.6/dist-packages/keras/backend/tensorflow_backend.py:216: The name tf.is_variable_initialized is deprecated. Please use tf.compat.v1.is_variable_initialized instead.\n",
            "\n"
          ],
          "name": "stderr"
        },
        {
          "output_type": "stream",
          "text": [
            "Epoch 1/50\n"
          ],
          "name": "stdout"
        },
        {
          "output_type": "stream",
          "text": [
            "WARNING:tensorflow:From /usr/local/lib/python3.6/dist-packages/keras/backend/tensorflow_backend.py:223: The name tf.variables_initializer is deprecated. Please use tf.compat.v1.variables_initializer instead.\n",
            "\n"
          ],
          "name": "stderr"
        },
        {
          "output_type": "stream",
          "text": [
            " - 2s - loss: 0.1101 - mean_absolute_error: 0.2561\n",
            "Epoch 2/50\n",
            " - 0s - loss: 0.0428 - mean_absolute_error: 0.1705\n",
            "Epoch 3/50\n",
            " - 0s - loss: 0.0351 - mean_absolute_error: 0.1647\n",
            "Epoch 4/50\n",
            " - 0s - loss: 0.0302 - mean_absolute_error: 0.1523\n",
            "Epoch 5/50\n",
            " - 0s - loss: 0.0262 - mean_absolute_error: 0.1407\n",
            "Epoch 6/50\n",
            " - 0s - loss: 0.0224 - mean_absolute_error: 0.1286\n",
            "Epoch 7/50\n",
            " - 0s - loss: 0.0192 - mean_absolute_error: 0.1176\n",
            "Epoch 8/50\n",
            " - 0s - loss: 0.0167 - mean_absolute_error: 0.1077\n",
            "Epoch 9/50\n",
            " - 0s - loss: 0.0146 - mean_absolute_error: 0.0991\n",
            "Epoch 10/50\n",
            " - 0s - loss: 0.0127 - mean_absolute_error: 0.0908\n",
            "Epoch 11/50\n",
            " - 0s - loss: 0.0113 - mean_absolute_error: 0.0854\n",
            "Epoch 12/50\n",
            " - 0s - loss: 0.0102 - mean_absolute_error: 0.0791\n",
            "Epoch 13/50\n",
            " - 0s - loss: 0.0094 - mean_absolute_error: 0.0771\n",
            "Epoch 14/50\n",
            " - 0s - loss: 0.0088 - mean_absolute_error: 0.0737\n",
            "Epoch 15/50\n",
            " - 0s - loss: 0.0082 - mean_absolute_error: 0.0700\n",
            "Epoch 16/50\n",
            " - 0s - loss: 0.0078 - mean_absolute_error: 0.0687\n",
            "Epoch 17/50\n",
            " - 0s - loss: 0.0075 - mean_absolute_error: 0.0677\n",
            "Epoch 18/50\n",
            " - 0s - loss: 0.0074 - mean_absolute_error: 0.0680\n",
            "Epoch 19/50\n",
            " - 0s - loss: 0.0072 - mean_absolute_error: 0.0662\n",
            "Epoch 20/50\n",
            " - 0s - loss: 0.0071 - mean_absolute_error: 0.0662\n",
            "Epoch 21/50\n",
            " - 0s - loss: 0.0069 - mean_absolute_error: 0.0655\n",
            "Epoch 22/50\n",
            " - 0s - loss: 0.0069 - mean_absolute_error: 0.0640\n",
            "Epoch 23/50\n",
            " - 0s - loss: 0.0068 - mean_absolute_error: 0.0648\n",
            "Epoch 24/50\n",
            " - 0s - loss: 0.0068 - mean_absolute_error: 0.0644\n",
            "Epoch 25/50\n",
            " - 0s - loss: 0.0067 - mean_absolute_error: 0.0638\n",
            "Epoch 26/50\n",
            " - 0s - loss: 0.0068 - mean_absolute_error: 0.0644\n",
            "Epoch 27/50\n",
            " - 0s - loss: 0.0068 - mean_absolute_error: 0.0641\n",
            "Epoch 28/50\n",
            " - 0s - loss: 0.0066 - mean_absolute_error: 0.0643\n",
            "Epoch 29/50\n",
            " - 0s - loss: 0.0067 - mean_absolute_error: 0.0634\n",
            "Epoch 30/50\n",
            " - 0s - loss: 0.0066 - mean_absolute_error: 0.0638\n",
            "Epoch 31/50\n",
            " - 0s - loss: 0.0067 - mean_absolute_error: 0.0636\n",
            "Epoch 32/50\n",
            " - 0s - loss: 0.0067 - mean_absolute_error: 0.0640\n",
            "Epoch 33/50\n",
            " - 0s - loss: 0.0067 - mean_absolute_error: 0.0634\n",
            "Epoch 34/50\n",
            " - 0s - loss: 0.0067 - mean_absolute_error: 0.0630\n",
            "Epoch 35/50\n",
            " - 0s - loss: 0.0067 - mean_absolute_error: 0.0636\n",
            "Epoch 36/50\n",
            " - 0s - loss: 0.0067 - mean_absolute_error: 0.0634\n",
            "Epoch 37/50\n",
            " - 0s - loss: 0.0067 - mean_absolute_error: 0.0637\n",
            "Epoch 38/50\n",
            " - 0s - loss: 0.0067 - mean_absolute_error: 0.0630\n",
            "Epoch 39/50\n",
            " - 0s - loss: 0.0067 - mean_absolute_error: 0.0633\n",
            "Epoch 40/50\n",
            " - 0s - loss: 0.0066 - mean_absolute_error: 0.0635\n",
            "Epoch 41/50\n",
            " - 0s - loss: 0.0067 - mean_absolute_error: 0.0634\n",
            "Epoch 42/50\n",
            " - 0s - loss: 0.0066 - mean_absolute_error: 0.0630\n",
            "Epoch 43/50\n",
            " - 0s - loss: 0.0067 - mean_absolute_error: 0.0639\n",
            "Epoch 44/50\n",
            " - 0s - loss: 0.0067 - mean_absolute_error: 0.0631\n",
            "Epoch 45/50\n",
            " - 0s - loss: 0.0066 - mean_absolute_error: 0.0632\n",
            "Epoch 46/50\n",
            " - 0s - loss: 0.0067 - mean_absolute_error: 0.0629\n",
            "Epoch 47/50\n",
            " - 0s - loss: 0.0067 - mean_absolute_error: 0.0634\n",
            "Epoch 48/50\n",
            " - 0s - loss: 0.0066 - mean_absolute_error: 0.0628\n",
            "Epoch 49/50\n",
            " - 0s - loss: 0.0067 - mean_absolute_error: 0.0631\n",
            "Epoch 50/50\n",
            " - 0s - loss: 0.0067 - mean_absolute_error: 0.0631\n"
          ],
          "name": "stdout"
        },
        {
          "output_type": "execute_result",
          "data": {
            "text/plain": [
              "<keras.callbacks.History at 0x7f57ad218a20>"
            ]
          },
          "metadata": {
            "tags": []
          },
          "execution_count": 96
        }
      ]
    },
    {
      "cell_type": "code",
      "metadata": {
        "id": "QqYscweX1iND",
        "colab_type": "code",
        "colab": {
          "base_uri": "https://localhost:8080/",
          "height": 52
        },
        "outputId": "86dce038-6566-49ca-9217-b3ec8781b9da"
      },
      "source": [
        "mae = model.evaluate(testX, testY, batch_size=16)\n",
        "print('MAE:', mae)"
      ],
      "execution_count": 99,
      "outputs": [
        {
          "output_type": "stream",
          "text": [
            "\r14/14 [==============================] - 0s 282us/step\n",
            "MAE: [0.004900902509689331, 0.05640620365738869]\n"
          ],
          "name": "stdout"
        }
      ]
    },
    {
      "cell_type": "code",
      "metadata": {
        "id": "YfXfyRwO3Ktg",
        "colab_type": "code",
        "colab": {}
      },
      "source": [
        ""
      ],
      "execution_count": 0,
      "outputs": []
    }
  ]
}